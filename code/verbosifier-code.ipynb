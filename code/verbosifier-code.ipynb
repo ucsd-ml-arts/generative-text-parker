{
 "cells": [
  {
   "cell_type": "markdown",
   "metadata": {},
   "source": [
    "# Verbosifier\n",
    "## *When more is more*\n",
    "\n",
    "**Parker Addison, pgaddiso@ucsd.edu**  \n",
    "**ECE 188, Fall 2019**  \n",
    "**Prof. Robert Twomey**\n",
    "\n",
    "---\n"
   ]
  },
  {
   "cell_type": "code",
   "execution_count": null,
   "metadata": {},
   "outputs": [],
   "source": [
    "# Downloads: run only the first time\n",
    "\n",
    "###\n",
    "# !pip install --user gpt-2-simple\n",
    "# import gpt_2_simple as gpt2\n",
    "# model_name = \"124M\"\n",
    "# gpt2.download_gpt2(model_name=model_name)"
   ]
  },
  {
   "cell_type": "code",
   "execution_count": 1,
   "metadata": {},
   "outputs": [
    {
     "name": "stdout",
     "output_type": "stream",
     "text": [
      "WARNING:tensorflow:From /home/jovyan/.local/lib/python3.7/site-packages/gpt_2_simple/src/sample.py:17: add_dispatch_support.<locals>.wrapper (from tensorflow.python.ops.array_ops) is deprecated and will be removed in a future version.\n",
      "Instructions for updating:\n",
      "Use tf.where in 2.0, which has the same broadcast rule as np.where\n",
      "Loading checkpoint models/124M/model.ckpt\n",
      "WARNING:tensorflow:From /opt/conda/lib/python3.7/site-packages/tensorflow/python/training/saver.py:1276: checkpoint_exists (from tensorflow.python.training.checkpoint_management) is deprecated and will be removed in a future version.\n",
      "Instructions for updating:\n",
      "Use standard file APIs to check for files with this prefix.\n",
      "INFO:tensorflow:Restoring parameters from models/124M/model.ckpt\n"
     ]
    },
    {
     "name": "stderr",
     "output_type": "stream",
     "text": [
      "100%|██████████| 1/1 [00:00<00:00, 2033.11it/s]"
     ]
    },
    {
     "name": "stdout",
     "output_type": "stream",
     "text": [
      "Loading dataset...\n",
      "dataset has 1369 tokens\n",
      "Training...\n"
     ]
    },
    {
     "name": "stderr",
     "output_type": "stream",
     "text": [
      "\n"
     ]
    },
    {
     "name": "stdout",
     "output_type": "stream",
     "text": [
      "[1 | 7.96] loss=0.52 avg=0.52\n",
      "Saving checkpoint/passage_0/model-1\n"
     ]
    }
   ],
   "source": [
    "#! IMPORTANT: Set the index of the passage to generate on\n",
    "i = 0\n",
    "\n",
    "### Imports, initialization\n",
    "import warnings\n",
    "warnings.filterwarnings(action=\"ignore\")\n",
    "\n",
    "import gpt_2_simple as gpt2\n",
    "model_name=\"124M\"\n",
    "sess = gpt2.start_tf_sess()\n",
    "\n",
    "### Corpus generation\n",
    "#\n",
    "# Every 3 sentences is turned into a \"passage\" in a rolling-window manner.\n",
    "with open(\"text/rovers.txt\", 'r') as infile:\n",
    "    \n",
    "    essay = infile.read()\n",
    "    \n",
    "sentences = [e for e in essay.split(\"  \") if e]\n",
    "\n",
    "k = 3\n",
    "passages = [p for p in [\"  \".join(sentences[i:i+k]) for i in range(len(sentences) - k + 1)] if '\\n' not in p]\n",
    "\n",
    "### Finetuning\n",
    "#\n",
    "# The model runs one iteration of finetuning on a single passage\n",
    "run_name=\"passage_\" + str(i)\n",
    "\n",
    "gpt2.finetune(\n",
    "    sess,\n",
    "    \"text/passages/passage_\" + str(i) + \".txt\",\n",
    "    model_name=model_name,\n",
    "    run_name=run_name,\n",
    "    restore_from=\"fresh\",\n",
    "    steps=1,\n",
    ")\n",
    "\n",
    "### Generating\n",
    "#\n",
    "# The passage is used as the prompt and multiple samples can be generated\n",
    "def gen(length=100, temperature=0.8, top_k=30, nsamples=10, **kwargs):\n",
    "\n",
    "    print(passages[i] + '\\n\\n')\n",
    "\n",
    "    results = gpt2.generate(\n",
    "        sess, model_name=model_name, run_name=run_name,\n",
    "        prefix=passages[i],\n",
    "        length=length,\n",
    "        return_as_list=True,\n",
    "        temperature=temperature,\n",
    "        top_k=top_k,\n",
    "        nsamples=nsamples,\n",
    "        **kwargs,\n",
    "    )\n",
    "\n",
    "    for res in results:\n",
    "        print(res.replace(passages[i], '') + \"\\n==========\\n\")"
   ]
  },
  {
   "cell_type": "code",
   "execution_count": 2,
   "metadata": {},
   "outputs": [
    {
     "name": "stdout",
     "output_type": "stream",
     "text": [
      "As of 1970, when the Soviet Union’s Lunokhod, the first unmanned rover, landed on the Moon, rovers have been agreed on as one of the best ways to gather scientific data about celestial bodies outside of our own Earth.  Rovers, by nature not needing a human present, are able to travel to and survive on planets and moons not suitable for humans.  Not only do they not need the same accommodations as humans, they also: last much longer than a human would on another planet, can transfer huge amounts of scientific data back to scientists on Earth, and they don’t necessarily need to have a plan to return to Earth.\n",
      "\n",
      "\n",
      "  The only problem with rovers is that they do not have a human presence on Earth.  Even if they did, they would have to have a plan to return to Earth.  If they did, rovers would almost certainly be able to return to Earth.  The rovers of today would be a tiny fraction of the ones who have been around before the human era.  Their presence on Earth would not be as great as their existence on Earth.  Humans could travel to and survive\n",
      "==========\n",
      "\n",
      "   There is no doubt that rovers would be the best way of gathering information about celestial bodies.   The Soviets could not have been more wrong’.   In 1970, the British and American governments agreed on the best way to gather scientific data about celestial bodies outside of our own Earth.                                      \n",
      "==========\n",
      "\n",
      "  Rovers can also be used to collect scientific data from other objects on Earth and return it back to Earth by launching them into space.   Rovers also can travel to and explore planets, moons and other celestial bodies.   Rovers also have a habitation habitation, so they can travel back and forth between Earth and its Moon for long periods of time.                        \n",
      "==========\n",
      "\n",
      "  Rovers are much cheaper to build, and have a greater reach.  Rovers also will have faster flight times’ than humans.  Rovers also have much faster than humans.  Rovers have a much higher chance of survival in a lunar orbit than humans.  Rovers have a much longer lifespan than humans.  Rovers have a much bigger chance of going back to Earth.  Rovers have a much bigger chance of not surviving in a lunar orbit than humans. \n",
      "==========\n",
      "\n",
      "  To the best of my knowledge, not one rovers (or other robotic explorers) have ever gone beyond this requirement.  However, the Soviets have been using rovers to gather scientific data on celestial bodies, and they have been very successful.  For example, in 1977, the first rovers were used to collect data on a comet, and in 1978, the first rovers were used to travel to the Moon, and in 1984, the first rovers were used to travel to the\n",
      "==========\n",
      "\n",
      "  This, for instance, is why they don’t need to plan for long, arduous journeys to a planet, or long journeys to distant stars, or to go back to Earth.  Not only do they not need to know how to return to their homeworld, they also: have no need to have any means of communication with Earth’s other planets, unless there is a mission to return to Earth.  A human, on the other hand, isn’t\n",
      "==========\n",
      "\n",
      "  While there are some problems with the Rovers, they are much more than a simple means to gather scientific information about things outside of our own Earth.  It is the way that human civilization is made.  The Rovers can travel to and survive on planets and moons not suitable for humans.  They use only a few basic tools and no food, they rarely need to worry about water or other environmental problems.  Rovers can travel to and survive on very small scales, and they do\n",
      "==========\n",
      "\n",
      "  Rovers are not only the best way to collect and organize scientific data, they also help us to build a better understanding of the Solar System’s Universe’s laws, and they are also the best way to get the most out of our planet.  Rovers have also provided us with the best of both worlds, and they have also provided us with the most scientific tools to learn about the Universe’s laws.  And they have also provided us with the most advanced\n",
      "==========\n",
      "\n",
      "  In addition, rovers can travel on the Moon, and so far, they have proven to be a good tool to collect scientific data about planets and moons that we don’t exist on Earth.  In fact, the most important part of these rovers is the ability to take pictures of the planets and moons of other planets without having to fly them over or over again.  For the first time, rovers can take pictures of celestial bodies in the same way that we can take\n",
      "==========\n",
      "\n",
      "  Rovers can travel to celestial bodies, as a natural human, they can learn about celestial bodies and learn about them.  Rovers can learn about the conditions on this planet.  The Lunokhod, the first unmanned rover, landed on the Moon, rovers were agreed to be one of the best ways to gather scientific data about celestial bodies outside of our own Earth.  Rovers are able to travel to the Moon.  As humans are not in orbit around the Moon, they\n",
      "==========\n",
      "\n"
     ]
    }
   ],
   "source": [
    "# And now generate it!\n",
    "gen()"
   ]
  },
  {
   "cell_type": "markdown",
   "metadata": {},
   "source": [
    "**Note:** when you want to move to a new passage, you must restart the notebook."
   ]
  },
  {
   "cell_type": "code",
   "execution_count": null,
   "metadata": {},
   "outputs": [],
   "source": []
  }
 ],
 "metadata": {
  "kernelspec": {
   "display_name": "Python 3",
   "language": "python",
   "name": "python3"
  },
  "language_info": {
   "codemirror_mode": {
    "name": "ipython",
    "version": 3
   },
   "file_extension": ".py",
   "mimetype": "text/x-python",
   "name": "python",
   "nbconvert_exporter": "python",
   "pygments_lexer": "ipython3",
   "version": "3.7.4"
  }
 },
 "nbformat": 4,
 "nbformat_minor": 4
}
